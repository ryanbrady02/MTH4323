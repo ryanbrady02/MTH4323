{
  "nbformat": 4,
  "nbformat_minor": 0,
  "metadata": {
    "colab": {
      "provenance": []
    },
    "kernelspec": {
      "name": "python3",
      "display_name": "Python 3"
    },
    "language_info": {
      "name": "python"
    }
  },
  "cells": [
    {
      "cell_type": "code",
      "execution_count": null,
      "metadata": {
        "colab": {
          "base_uri": "https://localhost:8080/"
        },
        "id": "aTxAffrdV8Xj",
        "outputId": "f3911e78-46a1-45c2-c483-ec98cfbfbbc0"
      },
      "outputs": [
        {
          "output_type": "stream",
          "name": "stdout",
          "text": [
            "Requirement already satisfied: scipy in /usr/local/lib/python3.10/dist-packages (1.13.1)\n",
            "Requirement already satisfied: numpy<2.3,>=1.22.4 in /usr/local/lib/python3.10/dist-packages (from scipy) (1.26.4)\n",
            "Optimal solution found with a total cost of: 285.0\n",
            "Shipment quantities for each route:\n",
            "Route 1: 15.0 units\n",
            "Route 2: 0.0 units\n",
            "Route 3: 5.0 units\n",
            "Route 4: 0.0 units\n",
            "Route 5: 25.0 units\n",
            "Route 6: 5.0 units\n",
            "Route 7: 0.0 units\n",
            "Route 8: 0.0 units\n",
            "Route 9: 25.0 units\n"
          ]
        },
        {
          "output_type": "stream",
          "name": "stderr",
          "text": [
            "<ipython-input-1-9d58628dfdd9>:36: DeprecationWarning: `method='simplex'` is deprecated and will be removed in SciPy 1.11.0. Please use one of the HiGHS solvers (e.g. `method='highs'`) in new code.\n",
            "  result = linprog(c=cost, A_eq=A_eq, b_eq=b_eq, bounds=x_bounds, method=\"simplex\")\n",
            "<ipython-input-1-9d58628dfdd9>:36: OptimizeWarning: A_eq does not appear to be of full row rank. To improve performance, check the problem formulation for redundant equality constraints.\n",
            "  result = linprog(c=cost, A_eq=A_eq, b_eq=b_eq, bounds=x_bounds, method=\"simplex\")\n"
          ]
        }
      ],
      "source": [
        "!pip install scipy\n",
        "\n",
        "from scipy.optimize import linprog\n",
        "import numpy as np\n",
        "\n",
        "# Supply and demand\n",
        "supply = [20, 30, 25]  # Supply from factories A, B, C\n",
        "demand = [15, 25, 35]  # Demand at warehouses X, Y, Z\n",
        "\n",
        "# Cost matrix (flattened for linprog)\n",
        "cost = [4, 6, 8, 5, 3, 7, 6, 5, 3]  # Cost per unit for each route\n",
        "\n",
        "# Coefficients matrix for constraints (supply and demand)\n",
        "A_eq = []\n",
        "\n",
        "# Supply constraints\n",
        "for i in range(len(supply)):\n",
        "    supply_constraint = [0] * len(cost)\n",
        "    supply_constraint[i * len(demand):(i + 1) * len(demand)] = [1] * len(demand)\n",
        "    A_eq.append(supply_constraint)\n",
        "\n",
        "# Demand constraints\n",
        "for j in range(len(demand)):\n",
        "    demand_constraint = [0] * len(cost)\n",
        "    for i in range(len(supply)):\n",
        "        demand_constraint[i * len(demand) + j] = 1\n",
        "    A_eq.append(demand_constraint)\n",
        "\n",
        "# Right-hand side of constraints\n",
        "b_eq = supply + demand  # Concatenating supply and demand constraints\n",
        "\n",
        "# Bounds for each variable (shipment volumes must be non-negative)\n",
        "x_bounds = [(0, None)] * len(cost)\n",
        "\n",
        "# Solve the linear programming problem\n",
        "result = linprog(c=cost, A_eq=A_eq, b_eq=b_eq, bounds=x_bounds, method=\"simplex\")\n",
        "\n",
        "# Check if the optimization was successful\n",
        "if result.success:\n",
        "    print(\"Optimal solution found with a total cost of:\", result.fun)\n",
        "    print(\"Shipment quantities for each route:\")\n",
        "    for i, qty in enumerate(result.x):\n",
        "        print(f\"Route {i+1}: {qty} units\")\n",
        "else:\n",
        "    print(\"Optimization failed:\", result.message)\n"
      ]
    },
    {
      "cell_type": "code",
      "source": [
        "!pip install pulp\n",
        "# Import PuLP modeler functions\n",
        "from pulp import *\n",
        "\n",
        "# Creates a list of all the supply nodes\n",
        "factories = [\"A\", \"B\", \"C\"]\n",
        "\n",
        "# Creates a dictionary for the number of units of supply for each supply node\n",
        "supply = {\"A\": 50, \"B\": 350, \"C\": 100}\n",
        "\n",
        "# Creates a list of all demand nodes\n",
        "projects = [\"1\", \"2\", \"3\"]\n",
        "\n",
        "# Creates a dictionary for the number of units of demand for each demand node\n",
        "demand = {\n",
        "    \"1\": 50,\n",
        "    \"2\": 150,\n",
        "    \"3\": 300,\n",
        "}\n",
        "\n",
        "# Intermediate nodes\n",
        "warehouses = [\"P\", \"Q\"]\n",
        "\n",
        "# Creates a list of costs of each transportation path\n",
        "costs_1 = [  # warehouses\n",
        "    [2, 1],  # A factories\n",
        "    [4, 5],  # B\n",
        "    [1.5, 0.5]  # C\n",
        "]\n",
        "\n",
        "costs_2 = [  # projects\n",
        "    [5, 2, 2],  # P warehouses\n",
        "    [4, 1, 3],  # Q\n",
        "]\n",
        "\n",
        "# The cost data is made into a dictionary\n",
        "costs_1 = makeDict([factories, warehouses], costs_1, 0)\n",
        "costs_2 = makeDict([warehouses, projects], costs_2, 0)\n",
        "\n",
        "# Creates the 'prob' variable to contain the problem data\n",
        "prob = LpProblem(\"Material Supply Problem\", LpMinimize)\n",
        "\n",
        "# Creates a list of tuples containing all the possible routes for transport\n",
        "Routes_1 = [(f, w) for f in factories for w in warehouses]\n",
        "Routes_2 = [(w, p) for w in warehouses for p in projects]\n",
        "\n",
        "# A dictionary called 'Vars_1' is created for routes from factories to warehouses\n",
        "vars_1 = LpVariable.dicts(\"Route_1\", (factories, warehouses), 0, None, LpInteger)\n",
        "\n",
        "# A dictionary called 'Vars_2' is created for routes from warehouses to projects\n",
        "vars_2 = LpVariable.dicts(\"Route_2\", (warehouses, projects), 0, None, LpInteger)\n",
        "\n",
        "# The objective function is added to 'prob' first\n",
        "prob += (\n",
        "    lpSum([vars_1[f][w] * costs_1[f][w] for (f, w) in Routes_1]) +\n",
        "    lpSum([vars_2[w][p] * costs_2[w][p] for (w, p) in Routes_2]),\n",
        "    \"Sum_of_Transporting_Costs\",\n",
        ")\n",
        "\n",
        "# The supply maximum constraints are added to prob for each supply node (factories)\n",
        "for f in factories:\n",
        "    prob += (\n",
        "        lpSum([vars_1[f][w] for w in warehouses]) <= supply[f],\n",
        "        \"Sum_of_Products_out_of_factories_%s\" % f,\n",
        "    )\n",
        "\n",
        "# The demand minimum constraints are added to prob for each demand node (project)\n",
        "for p in projects:\n",
        "    prob += (\n",
        "        lpSum([vars_2[w][p] for w in warehouses]) >= demand[p],\n",
        "        \"Sum_of_Products_into_projects_%s\" % p,\n",
        "    )\n",
        "\n",
        "# Transshipment constraints: What is shipped into a transshipment node must be shipped out.\n",
        "for w in warehouses:\n",
        "    prob += (\n",
        "        lpSum([vars_1[f][w] for f in factories]) - lpSum([vars_2[w][p] for p in projects]) == 0,\n",
        "        \"Sum_of_Products_out_of_warehouse_%s\" % w,\n",
        "    )\n",
        "\n",
        "# The problem is solved using PuLP's choice of Solver\n",
        "prob.solve()\n",
        "\n",
        "# Print the variables optimized value\n",
        "for v in prob.variables():\n",
        "    print(v.name, \"=\", v.varValue)\n",
        "\n",
        "# The optimized objective function value is printed to the screen\n",
        "print(\"Value of Objective Function = \", value(prob.objective))\n"
      ],
      "metadata": {
        "colab": {
          "base_uri": "https://localhost:8080/"
        },
        "id": "VJrqwpNjWecN",
        "outputId": "9099de37-a50e-4227-ab2b-749775032f61"
      },
      "execution_count": null,
      "outputs": [
        {
          "output_type": "stream",
          "name": "stdout",
          "text": [
            "Requirement already satisfied: pulp in /usr/local/lib/python3.10/dist-packages (2.9.0)\n",
            "Route_1_A_P = 0.0\n",
            "Route_1_A_Q = 50.0\n",
            "Route_1_B_P = 300.0\n",
            "Route_1_B_Q = 50.0\n",
            "Route_1_C_P = 0.0\n",
            "Route_1_C_Q = 100.0\n",
            "Route_2_P_1 = 0.0\n",
            "Route_2_P_2 = 0.0\n",
            "Route_2_P_3 = 300.0\n",
            "Route_2_Q_1 = 50.0\n",
            "Route_2_Q_2 = 150.0\n",
            "Route_2_Q_3 = 0.0\n",
            "Value of Objective Function =  2500.0\n"
          ]
        }
      ]
    },
    {
      "cell_type": "code",
      "source": [
        "!pip install scipy\n",
        "\n",
        "from scipy.optimize import linear_sum_assignment\n",
        "import numpy as np\n",
        "\n",
        "# Define the cost matrix\n",
        "cost_matrix = np.array([\n",
        "    [13, 8, 10, 15],\n",
        "    [9, 14, 12, 7],\n",
        "    [11, 13, 9, 12],\n",
        "    [12, 10, 14, 6]\n",
        "])\n",
        "\n",
        "# Solve the assignment problem\n",
        "row_ind, col_ind = linear_sum_assignment(cost_matrix)\n",
        "\n",
        "# Calculate the minimum cost\n",
        "min_cost = cost_matrix[row_ind, col_ind].sum()\n",
        "\n",
        "# Print the optimal assignment and the minimum cost\n",
        "print(\"Optimal assignment:\")\n",
        "for worker, task in zip(row_ind, col_ind):\n",
        "    print(f\"Worker {worker + 1} is assigned to Task {chr(task + 65)}\")\n",
        "\n",
        "print(f\"Total minimum cost (in hours): {min_cost}\")\n"
      ],
      "metadata": {
        "id": "ZHFpKji6XET1",
        "colab": {
          "base_uri": "https://localhost:8080/"
        },
        "outputId": "71d3dab7-01b6-444f-bf94-0da97def3600"
      },
      "execution_count": null,
      "outputs": [
        {
          "output_type": "stream",
          "name": "stdout",
          "text": [
            "Requirement already satisfied: scipy in /usr/local/lib/python3.10/dist-packages (1.13.1)\n",
            "Requirement already satisfied: numpy<2.3,>=1.22.4 in /usr/local/lib/python3.10/dist-packages (from scipy) (1.26.4)\n",
            "Optimal assignment:\n",
            "Worker 1 is assigned to Task B\n",
            "Worker 2 is assigned to Task A\n",
            "Worker 3 is assigned to Task C\n",
            "Worker 4 is assigned to Task D\n",
            "Total minimum cost (in hours): 32\n"
          ]
        }
      ]
    },
    {
      "cell_type": "code",
      "source": [],
      "metadata": {
        "id": "-Yy8kGZ76UDW"
      },
      "execution_count": null,
      "outputs": []
    }
  ]
}